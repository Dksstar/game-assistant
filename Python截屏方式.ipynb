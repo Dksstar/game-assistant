{
 "cells": [
  {
   "cell_type": "markdown",
   "id": "b5b18064",
   "metadata": {},
   "source": [
    "## Python常用的几种截屏方式  \n",
    "\n",
    "## 一.  使用win32api截图  \n",
    "## 速度快，可以指定获取的窗口，即使窗口被遮挡，窗口最小化时无法获取截图。\n"
   ]
  },
  {
   "cell_type": "code",
   "execution_count": 32,
   "id": "2482148a",
   "metadata": {},
   "outputs": [],
   "source": [
    "import cv2\n",
    "import numpy\n",
    "import win32gui, win32ui, win32con\n",
    "\n",
    "#获取后台窗口的句柄，注意后台窗口不能最小化\n",
    "hWnd = win32gui.FindWindow(0,'辉煌') #窗口的类名\n",
    "#获取句柄窗口的大小信息\n",
    "left, top, right, bottom = win32gui.GetWindowRect(hWnd)\n",
    "width = right - left\n",
    "height = bottom - top\n",
    "#返回句柄窗口的设备环境，覆盖整个窗口，包括非客户区，标题栏，菜单，边框\n",
    "hWndDC = win32gui.GetWindowDC(hWnd)\n",
    "#创建设备描述表\n",
    "mfcDC = win32ui.CreateDCFromHandle(hWndDC)\n",
    "#创建内存设备描述表\n",
    "saveDC = mfcDC.CreateCompatibleDC()\n",
    "#创建位图对象准备保存图片\n",
    "saveBitMap = win32ui.CreateBitmap()\n",
    "#为bitmap开辟存储空间\n",
    "saveBitMap.CreateCompatibleBitmap(mfcDC,width,height)\n",
    "#将截图保存到saveBitMap中\n",
    "saveDC.SelectObject(saveBitMap)\n",
    "#保存bitmap到内存设备描述表\n",
    "saveDC.BitBlt((0,0), (width,height), mfcDC, (0, 0), win32con.SRCCOPY)\n",
    "#获取位图信息\n",
    "bmpInfo =saveBitMap.GetInfo()\n",
    "img = numpy.frombuffer(saveBitMap.GetBitmapBits(True), dtype = numpy.uint8)\n",
    "\n",
    "#内存释放\n",
    "win32gui.DeleteObject(saveBitMap.GetHandle())\n",
    "saveDC.DeleteDC()\n",
    "mfcDC.DeleteDC()\n",
    "win32gui.ReleaseDC(hWnd,hWndDC)\n",
    "\n",
    "img.shape = (height, width, 4)\n",
    "cv2.cvtColor(img, cv2.COLOR_BGRA2RGB)\n",
    "\n",
    "#显示截图\n",
    "cv2.imshow(\"im_opencv\",img) #显示\n",
    "cv2.waitKey(0)\n",
    "cv2.destroyAllWindows()"
   ]
  },
  {
   "cell_type": "markdown",
   "id": "1e7b5aeb",
   "metadata": {},
   "source": [
    "## 二 PIL中的ImageGrab模块    \n",
    "## 模块简单，但是效率有点低，不能指定获取程序的窗口，因此窗口也不能遮挡，可以指定截屏位置\n"
   ]
  },
  {
   "cell_type": "code",
   "execution_count": 35,
   "id": "d00cf255",
   "metadata": {},
   "outputs": [],
   "source": [
    "import numpy as np\n",
    "from PIL import ImageGrab, Image\n",
    "import cv2\n",
    " \n",
    "img = ImageGrab.grab(bbox=(0, 0, 800, 600))  \n",
    "# bbox 定义左、上、右和下像素的4元组，如果不指定，就是整个屏幕\n",
    "img = np.array(img)\n",
    "img = cv2.cvtColor(img, cv2.COLOR_BGR2RGB)\n",
    "\n",
    "#显示截图\n",
    "cv2.imshow(\"img\",img) \n",
    "cv2.waitKey(0)\n",
    "cv2.destroyAllWindows()"
   ]
  },
  {
   "cell_type": "markdown",
   "id": "e2579f65",
   "metadata": {},
   "source": [
    "## 三 使用pyautogui 模块  \n",
    "## 模块简单，不能指定获取程序的窗口，因此窗口也不能遮挡，可以指定截屏的位置"
   ]
  },
  {
   "cell_type": "code",
   "execution_count": 37,
   "id": "fd942d61",
   "metadata": {},
   "outputs": [],
   "source": [
    "import pyautogui\n",
    "import cv2  # \n",
    "import numpy as np\n",
    "from PIL import Image\n",
    " \n",
    "img = pyautogui.screenshot(region=[0, 0, 800, 600])\n",
    "# region 指定左、上、右和下像素，如果不指定，就是整个屏幕\n",
    "img = cv2.cvtColor(np.asarray(img),cv2.COLOR_RGB2BGR)\n",
    "\n",
    "#显示截图\n",
    "cv2.imshow(\"img\",img) \n",
    "cv2.waitKey(0)\n",
    "cv2.destroyAllWindows()"
   ]
 ],
 "metadata": {
  "kernelspec": {
   "display_name": "Python 3 (ipykernel)",
   "language": "python",
   "name": "python3"
  },
  "language_info": {
   "codemirror_mode": {
    "name": "ipython",
    "version": 3
   },
   "file_extension": ".py",
   "mimetype": "text/x-python",
   "name": "python",
   "nbconvert_exporter": "python",
   "pygments_lexer": "ipython3",
   "version": "3.9.12"
  }
 },
 "nbformat": 4,
 "nbformat_minor": 5
}
