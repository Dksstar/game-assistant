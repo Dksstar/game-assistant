{
 "cells": [
  {
   "cell_type": "markdown",
   "metadata": {},
   "source": [
    "# Python控制鼠标键盘模块"
   ]
  },
  {
   "cell_type": "markdown",
   "metadata": {},
   "source": [
    "## 一. 使用 WIN32API 控制鼠标键盘"
   ]
  },
  {
   "cell_type": "markdown",
   "metadata": {},
   "source": [
    "#获取鼠标位置\n",
    "win32api.GetCursorPos()\n",
    "\n",
    "#鼠标移动到制定坐标（瞬移位置）\n",
    "win32api.SetCursorPos((x, y))\n",
    "\n",
    "#鼠标左键按下\n",
    "win32api.mouse_event(win32con.MOUSEEVENTF_LEFTDOWN, 0, 0, 0, 0)\n",
    "#鼠标左键放开\n",
    "win32api.mouse_event(win32con.MOUSEEVENTF_LEFTUP, 0, 0, 0, 0)\n",
    "\n",
    "#鼠标右键按下\n",
    "win32api.mouse_event(win32con.MOUSEEVENTF_RIGHTDOWN, 0, 0, 0, 0)\n",
    "#鼠标右键放开\n",
    "win32api.mouse_event(win32con.MOUSEEVENTF_RIGHTUP, 0, 0, 0, 0)\n",
    "\n",
    "#键盘输入事件\n",
    "\n",
    "#按下键盘的某个键（根据键值）A~Z对应的键值  65~90\n",
    "win32api.keybd_event(VK_CODE[word], 0, 0, 0)\n",
    "#松开键盘的某个键（根据键值）\n",
    "win32api.keybd_event(VK_CODE[word], 0, win32con.KEYEVENTF_KEYUP, 0)\n"
   ]
  },
  {
   "cell_type": "code",
   "execution_count": 19,
   "metadata": {
    "scrolled": true
   },
   "outputs": [
    {
     "data": {
      "text/plain": [
       "(832, 221)"
      ]
     },
     "execution_count": 19,
     "metadata": {},
     "output_type": "execute_result"
    }
   ],
   "source": [
    "import win32gui, win32ui, win32con, win32api\n",
    "import time\n",
    "\n",
    "\n",
    "#获取鼠标位置\n",
    "win32api.GetCursorPos()"
   ]
  },
  {
   "cell_type": "code",
   "execution_count": 20,
   "metadata": {},
   "outputs": [],
   "source": [
    "from win32con import KEYEVENTF_KEYUP\n",
    "import random\n",
    "\n",
    "#鼠标移动到制定坐标（瞬移位置）\n",
    "win32api.SetCursorPos((429,214))\n",
    "\n",
    "time.sleep(1)\n",
    "\n",
    "# 组合为一次单击\n",
    "\n",
    "#鼠标左键按下\n",
    "win32api.mouse_event(win32con.MOUSEEVENTF_LEFTDOWN, 0, 0, 0, 0)\n",
    "#鼠标左键放开\n",
    "win32api.mouse_event(win32con.MOUSEEVENTF_LEFTUP, 0, 0, 0, 0)\n",
    "\n",
    "\n",
    "#鼠标移动到制定坐标（瞬移位置）\n",
    "win32api.SetCursorPos((692, 434))\n",
    "\n",
    "time.sleep(1)\n",
    "\n",
    "# 组合为一次单击\n",
    "\n",
    "#鼠标左键按下\n",
    "win32api.mouse_event(win32con.MOUSEEVENTF_LEFTDOWN, 0, 0, 0, 0)\n",
    "#鼠a标左键放开\n",
    "win32api.mouse_event(win32con.MOUSEEVENTF_LEFTUP, 0, 0, 0, 0)\n",
    "\n",
    "\n",
    "time.sleep(1)\n",
    "#鼠标左键按下\n",
    "win32api.mouse_event(win32con.MOUSEEVENTF_LEFTDOWN, 0, 0, 0, 0)\n",
    "#鼠标左键放开\n",
    "win32api.mouse_event(win32con.MOUSEEVENTF_LEFTUP, 0, 0, 0, 0)\n",
    "\n",
    "\n",
    "win32api.SetCursorPos((638, 265))\n",
    "time.sleep(1)\n",
    "#鼠标右键按下\n",
    "win32api.mouse_event(win32con.MOUSEEVENTF_RIGHTDOWN, 0, 0, 0, 0)\n",
    "time.sleep(1)\n",
    "#鼠标右键放开\n",
    "win32api.mouse_event(win32con.MOUSEEVENTF_RIGHTUP, 0, 0, 0, 0)\n",
    "\n",
    "\n",
    "time.sleep(1)\n",
    "#按下键盘的某个键（根据键值）A~Z对应的键值  65~90\n",
    "win32api.keybd_event(9, 0, 0, 0)\n",
    "#松开键盘的某个键（根据键值）\n",
    "win32api.keybd_event(9, 0, win32con.KEYEVENTF_KEYUP, 0)\n",
    "\n",
    "time.sleep(1)\n",
    "#按下键盘的某个键（根据键值）A~Z对应的键值  65~90\n",
    "win32api.keybd_event(13, 0, 0, 0)\n",
    "#松开键盘的某个键（根据键值）\n",
    "win32api.keybd_event(13, 0, win32con.KEYEVENTF_KEYUP, 0)\n",
    "\n",
    "time.sleep(1)\n",
    "#按下键盘的某个键（根据键值）A~Z对应的键值  65~90\n",
    "win32api.keybd_event(65, 0, 0, 0)\n",
    "#松开键盘的某个键（根据键值）\n",
    "win32api.keybd_event(65, 0, win32con.KEYEVENTF_KEYUP, 0)\n"
   ]
  },
  {
   "cell_type": "markdown",
   "metadata": {},
   "source": [
    "# 二. pyautogui控制鼠标键盘\n",
    "\n",
    "## 鼠标操作"
   ]
  },
  {
   "cell_type": "code",
   "execution_count": 5,
   "metadata": {
    "scrolled": true
   },
   "outputs": [
    {
     "name": "stdout",
     "output_type": "stream",
     "text": [
      "831 169\n"
     ]
    }
   ],
   "source": [
    "import pyautogui\n",
    "\n",
    "MouseX, MouseY = pyautogui.position() # 返回鼠标的所在位置\n",
    "print(MouseX, MouseY)\n",
    "\n",
    "pyautogui.moveTo(100, 100, duration=0.25) #移动鼠标到指定位置,duration间隔时间\n",
    "pyautogui.moveRel(50, 0, duration=0.25) # 移动鼠标到相对位置,右移50，间隔0.25s\n",
    "\n",
    "\n",
    "# 移动坐标，点击数，间隔时间，button属性可以设置成left，middle和right。\n",
    "pyautogui.click(10, 20, 2, 0.25, button='left')\n",
    "pyautogui.doubleClick() # 鼠标当前位置左击两下\n",
    "pyautogui.doubleClick(x=100, y=150, button=\"left\") # 鼠标在（100，150）位置左击两下\n",
    "\n",
    "#拖动鼠标\n",
    "# 按住鼠标左键，把鼠标拖拽到(100, 200)位置\n",
    "pyautogui.dragTo(100, 200, button='left')\n",
    "# 按住鼠标左键，用2秒钟把鼠标拖拽到(300, 400)位置\n",
    "pyautogui.dragTo(300, 400, 2, button='left')\n",
    "# 按住鼠标左键，用0.2秒钟把鼠标向上拖拽\n",
    "pyautogui.dragRel(0, -60, duration=0.2)\n",
    "\n",
    "\n",
    "#按下，松开鼠标\n",
    "pyautogui.mouseDown() # 鼠标左键按下\n",
    "pyautogui.mouseUp()   # 鼠标左键松开\n",
    "pyautogui.mouseDown(button='right') # 按下鼠标右键\n",
    "pyautogui.mouseUp(button='right', x=100, y=200) \n",
    "# 移动到(100, 200)位置，然后松开鼠标右键\n",
    "\n"
   ]
  },
  {
   "cell_type": "markdown",
   "metadata": {},
   "source": [
    "# 键盘操作"
   ]
  },
  {
   "cell_type": "code",
   "execution_count": 14,
   "metadata": {},
   "outputs": [],
   "source": [
    "import time\n",
    "time.sleep(2)\n",
    "\n",
    "#模拟键盘输入\n",
    "pyautogui.typewrite('Hello world!') # 输入Hello world!字符串\n",
    "pyautogui.typewrite('Hello world!', interval=0.25) \n",
    "# 每次输入间隔0.25秒，输入Hello world!\n",
    " \n",
    "#模拟按键\n",
    "pyautogui.press('enter') # 按下并松开（轻敲）回车键\n",
    "pyautogui.press(['left', 'left', 'left', 'left']) # 按下并松开（轻敲）四下左方向键\n",
    "\n",
    "#模拟一次按键过程，即 keyDown 和 keyUP 的组合\n",
    "pyautogui.keyDown('shift') # 按下`shift`键\n",
    "pyautogui.keyUp('shift') # 松开`shift`键\n",
    " \n",
    "pyautogui.keyDown('shift')\n",
    "pyautogui.press('4')\n",
    "pyautogui.keyUp('shift') # 输出 $ 符号的按键\n",
    "\n",
    "# 组合按键（Ctrl+V），粘贴功能，按下并松开'ctrl'和'v'按键\n",
    "pyautogui.hotkey('ctrl', 'v') \n",
    "\n"
   ]
  },
  {
   "cell_type": "code",
   "execution_count": 21,
   "metadata": {},
   "outputs": [],
   "source": [
    "import pyautogui\n",
    "import win32gui, win32ui, win32con, win32api\n",
    "\n",
    "x,y= 414,260\n",
    "#鼠标移动到制定坐标（瞬移位置）\n",
    "#win32api.SetCursorPos((x, y))\n",
    "\n",
    "time.sleep(1)\n",
    "pyautogui.click(418, 326, 1, 1, button='left')\n",
    "\n",
    "time.sleep(1)\n",
    "pyautogui.click(703, 439, 2, 1, button='left')\n",
    "\n",
    "time.sleep(1)\n",
    "pyautogui.press('tab')\n",
    "time.sleep(1)\n",
    "pyautogui.press('tab')"
   ]
  },
  {
   "cell_type": "code",
   "execution_count": null,
   "metadata": {},
   "outputs": [],
   "source": []
  }
 ],
 "metadata": {
  "kernelspec": {
   "display_name": "Python 3 (ipykernel)",
   "language": "python",
   "name": "python3"
  },
  "language_info": {
   "codemirror_mode": {
    "name": "ipython",
    "version": 3
   },
   "file_extension": ".py",
   "mimetype": "text/x-python",
   "name": "python",
   "nbconvert_exporter": "python",
   "pygments_lexer": "ipython3",
   "version": "3.9.12"
  }
 },
 "nbformat": 4,
 "nbformat_minor": 2
}
