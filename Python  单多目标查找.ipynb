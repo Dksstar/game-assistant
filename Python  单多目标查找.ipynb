{
 "cells": [
  {
   "cell_type": "markdown",
   "metadata": {},
   "source": [
    "# Python OpenCV实现图像模板匹配"
   ]
  },
  {
   "cell_type": "markdown",
   "metadata": {},
   "source": [
    "## cv2.matchTemplate(image, templ, method, result=None, mask=None)\n",
    "\n",
    "## 其中\n",
    "\n",
    "## image 即目标图像\n",
    "\n",
    "## templ 即模板图像\n",
    "\n",
    "## method 是匹配的方式\n",
    "\n",
    "## mask 即掩模，可选。只有当method为cv2.TM_SQDIFF或cv2.TM_CCORR_NORMED时才支持此参数。"
   ]
  },
  {
   "cell_type": "markdown",
   "metadata": {},
   "source": [
    "## 1 单目标匹配"
   ]
  },
  {
   "cell_type": "code",
   "execution_count": 83,
   "metadata": {},
   "outputs": [],
   "source": [
    "import cv2\n",
    "img = cv2.imread(r\"C:\\Users\\jun\\Desktop\\img.bmp\")\n",
    "\n",
    "templ = cv2.imread(r\"C:\\Users\\jun\\Desktop\\blood.bmp\")\n",
    "height, width, c = templ.shape  #目标图像的长和宽\n",
    "results = cv2.matchTemplate(img, templ, cv2.TM_CCOEFF_NORMED)\n",
    "# 获取匹配结果中的最小值、最大值、最小值坐标和最大值坐标\n",
    "minValue, maxValue, minLoc, maxLoc = cv2.minMaxLoc(results)\n",
    "resultPoint1 = minLoc  #左上角坐标\n",
    "resultPoint2 = (resultPoint1[0] + width, resultPoint1[1] + height) #右下角坐标\n",
    "cv2.rectangle(img, resultPoint1, resultPoint2, (0, 255, 0), 1) #将找到的图片框出来\n",
    "\n",
    "#显示结果\n",
    "cv2.imshow(\"img\", img)\n",
    "cv2.waitKey()\n",
    "cv2.destroyAllWindows()\n"
   ]
  },
  {
   "cell_type": "markdown",
   "metadata": {},
   "source": [
    "## 2 多目标匹配"
   ]
  },
  {
   "cell_type": "code",
   "execution_count": 84,
   "metadata": {},
   "outputs": [],
   "source": [
    "import numpy as np\n",
    "\n",
    "\n",
    "img = cv2.imread(r\"C:\\Users\\jun\\Desktop\\img.bmp\")\n",
    "templ = cv2.imread(r\"C:\\Users\\jun\\Desktop\\blood.bmp\")\n",
    "\n",
    "height, width, c = templ.shape\n",
    "#按照标准相关系数匹配\n",
    "res = cv2.matchTemplate(img, templ, cv2.TM_CCOEFF_NORMED)\n",
    "\n",
    "thresthold=0.9\n",
    "loc = np.where(res >= thresthold)\n",
    "\n",
    "for pt in zip(*loc[::-1]): \n",
    "    right_bottom = (pt[0] + width, pt[1] + height)\n",
    "    cv2.rectangle(img, pt, right_bottom, (0, 255, 0), 1) #所有匹配的物品逐个画框\n",
    "\n",
    "cv2.imshow(\"img\", img)\n",
    "cv2.waitKey()\n",
    "cv2.destroyAllWindows()\n"
   ]
  },
  {
   "cell_type": "markdown",
   "metadata": {},
   "source": [
    "## 3.多模板匹配"
   ]
  },
  {
   "cell_type": "code",
   "execution_count": 87,
   "metadata": {},
   "outputs": [],
   "source": [
    "import cv2\n",
    "\n",
    "def myMatchTemplate(img, templ):\n",
    "    height, width, c = templ.shape\n",
    "    res = cv2.matchTemplate(img, templ, cv2.TM_CCOEFF_NORMED)\n",
    "    \n",
    "    thresthold=0.6  #匹配度\n",
    "    loc = np.where(res >= thresthold)\n",
    "    \n",
    "    loc_all = list()\n",
    "    for i,j in zip(*loc[::-1]):\n",
    "        \n",
    "        loc_all.append((i, j, i + width, j + height))\n",
    "    return loc_all\n",
    "\n",
    "# 读取原始图像\n",
    "\n",
    "img = cv2.imread(r\"C:\\Users\\jun\\Desktop\\img.bmp\")\n",
    "\n",
    "# 模板列表\n",
    "templs = list()\n",
    "templ = cv2.imread(r\"C:\\Users\\jun\\Desktop\\blood.bmp\")\n",
    "temp2 = cv2.imread(r\"C:\\Users\\jun\\Desktop\\huicheng-2.bmp\")\n",
    "temp3 = cv2.imread(r\"C:\\Users\\jun\\Desktop\\renwu.bmp\")\n",
    "templs.append(templ)\n",
    "templs.append(temp2)\n",
    "templs.append(temp3)\n",
    "\n",
    "loc = list()  \n",
    "for t in templs: \n",
    "    loc += myMatchTemplate(img, t) \n",
    "\n",
    "# 遍历所有红框的坐标\n",
    "for i in loc:  \n",
    "    cv2.rectangle(img, (i[0], i[1]), (i[2], i[3]), (0, 255, 0), 1) \n",
    "\n",
    "cv2.imshow(\"img\", img) \n",
    "cv2.waitKey() \n",
    "cv2.destroyAllWindows() \n"
   ]
  },
  {
   "cell_type": "code",
   "execution_count": null,
   "metadata": {},
   "outputs": [],
   "source": []
  }
 ],
 "metadata": {
  "kernelspec": {
   "display_name": "Python 3 (ipykernel)",
   "language": "python",
   "name": "python3"
  },
  "language_info": {
   "codemirror_mode": {
    "name": "ipython",
    "version": 3
   },
   "file_extension": ".py",
   "mimetype": "text/x-python",
   "name": "python",
   "nbconvert_exporter": "python",
   "pygments_lexer": "ipython3",
   "version": "3.9.12"
  }
 },
 "nbformat": 4,
 "nbformat_minor": 2
}
